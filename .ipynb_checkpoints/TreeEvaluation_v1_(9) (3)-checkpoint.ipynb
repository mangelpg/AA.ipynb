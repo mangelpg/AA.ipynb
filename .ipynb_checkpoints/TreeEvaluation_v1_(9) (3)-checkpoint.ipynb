{
  "cells": [
    {
      "cell_type": "code",
      "execution_count": null,
      "metadata": {
        "id": "R2rNJKxq1fTI",
        "pycharm": {
          "is_executing": true
        }
      },
      "outputs": [],
      "source": [
        "# This is for installing model trees, that will be used at the end\n",
        "!pip install --upgrade linear-tree\n",
        "\n",
        "# More info about this implementation of model trees\n",
        "# https://towardsdatascience.com/linear-tree-the-perfect-mix-of-linear-model-and-decision-tree-2eaed21936b7\n",
        "# https://pypi.org/project/linear-tree/\n",
        "\n",
        "# Install statsmodels for confidence intervals\n",
        "!pip install statsmodels"
      ]
    },
    {
      "cell_type": "markdown",
      "metadata": {
        "id": "cWAOeLZ94XOz"
      },
      "source": [
        "# Using Python:\n",
        "- Base Python (python without extra libraries): lists, dictionaries, sets, ...\n",
        "- numpy: vectors and matrices with numbers\n",
        "- pandas: data.frames"
      ]
    },
    {
      "cell_type": "markdown",
      "metadata": {
        "id": "MS7sU2en7dVC"
      },
      "source": [
        "This is a list (base Python)"
      ]
    },
    {
      "cell_type": "code",
      "execution_count": null,
      "metadata": {
        "colab": {
          "base_uri": "https://localhost:8080/"
        },
        "id": "FfuwVwX65nqi",
        "outputId": "024bfb22-e237-4f77-da13-5c41b2bbd70b"
      },
      "outputs": [
        {
          "name": "stdout",
          "output_type": "stream",
          "text": [
            "[1, 2, 3]\n"
          ]
        }
      ],
      "source": [
        "a = [1, 2, 3]\n",
        "print(a)"
      ]
    },
    {
      "cell_type": "markdown",
      "metadata": {
        "id": "ZAEx9NdA7jby"
      },
      "source": [
        "This is a numpy vector and a numpy matrix. They can only contain numbers."
      ]
    },
    {
      "cell_type": "code",
      "execution_count": null,
      "metadata": {
        "colab": {
          "base_uri": "https://localhost:8080/"
        },
        "id": "9kybjyy77jra",
        "outputId": "6a5460b5-74fe-42a3-a70e-7abc412a054e"
      },
      "outputs": [
        {
          "name": "stdout",
          "output_type": "stream",
          "text": [
            "This is a vector:\n",
            "[1 2 3]\n",
            "\n",
            "Ths is a matrix:\n",
            "[[1 2 3]\n",
            " [4 5 6]]\n"
          ]
        }
      ],
      "source": [
        "import numpy as np\n",
        "\n",
        "print('This is a vector:')\n",
        "\n",
        "a = np.array([1, 2, 3])\n",
        "print(a)\n",
        "\n",
        "print()\n",
        "\n",
        "print('Ths is a matrix:')\n",
        "b = np.array([[1,2,3], \n",
        "              [4,5,6]])\n",
        "print(b)"
      ]
    },
    {
      "cell_type": "markdown",
      "metadata": {
        "id": "m1NceMWE8FDD"
      },
      "source": [
        "This is a pandas dataframe. It can contain different columns, some of them with numbers, some of them with categorical values. "
      ]
    },
    {
      "cell_type": "code",
      "execution_count": null,
      "metadata": {
        "colab": {
          "base_uri": "https://localhost:8080/",
          "height": 143
        },
        "id": "mt5NzVA18FM6",
        "outputId": "df66e526-e99e-4ee0-c0ff-ad9fc70e34c0"
      },
      "outputs": [
        {
          "ename": "OSError",
          "evalue": "[Errno 45] Operation not supported",
          "output_type": "error",
          "traceback": [
            "\u001b[0;31m---------------------------------------------------------------------------\u001b[0m",
            "\u001b[0;31mOSError\u001b[0m                                   Traceback (most recent call last)",
            "Cell \u001b[0;32mIn [6], line 1\u001b[0m\n\u001b[0;32m----> 1\u001b[0m \u001b[38;5;28;01mimport\u001b[39;00m \u001b[38;5;21;01mpandas\u001b[39;00m \u001b[38;5;28;01mas\u001b[39;00m \u001b[38;5;21;01mpd\u001b[39;00m\n\u001b[1;32m      2\u001b[0m pd\u001b[38;5;241m.\u001b[39mDataFrame({\u001b[38;5;124m'\u001b[39m\u001b[38;5;124ma\u001b[39m\u001b[38;5;124m'\u001b[39m:[\u001b[38;5;241m1\u001b[39m,\u001b[38;5;241m2\u001b[39m,\u001b[38;5;241m3\u001b[39m], \u001b[38;5;124m'\u001b[39m\u001b[38;5;124mb\u001b[39m\u001b[38;5;124m'\u001b[39m:[\u001b[38;5;124m'\u001b[39m\u001b[38;5;124ma\u001b[39m\u001b[38;5;124m'\u001b[39m, \u001b[38;5;124m'\u001b[39m\u001b[38;5;124mb\u001b[39m\u001b[38;5;124m'\u001b[39m, \u001b[38;5;124m'\u001b[39m\u001b[38;5;124mc\u001b[39m\u001b[38;5;124m'\u001b[39m]})\n",
            "File \u001b[0;32m<frozen importlib._bootstrap>:1007\u001b[0m, in \u001b[0;36m_find_and_load\u001b[0;34m(name, import_)\u001b[0m\n",
            "File \u001b[0;32m<frozen importlib._bootstrap>:982\u001b[0m, in \u001b[0;36m_find_and_load_unlocked\u001b[0;34m(name, import_)\u001b[0m\n",
            "File \u001b[0;32m<frozen importlib._bootstrap>:925\u001b[0m, in \u001b[0;36m_find_spec\u001b[0;34m(name, path, target)\u001b[0m\n",
            "File \u001b[0;32m<frozen importlib._bootstrap_external>:1414\u001b[0m, in \u001b[0;36mfind_spec\u001b[0;34m(cls, fullname, path, target)\u001b[0m\n",
            "File \u001b[0;32m<frozen importlib._bootstrap_external>:1383\u001b[0m, in \u001b[0;36m_get_spec\u001b[0;34m(cls, fullname, path, target)\u001b[0m\n",
            "File \u001b[0;32m<frozen importlib._bootstrap_external>:1347\u001b[0m, in \u001b[0;36m_path_importer_cache\u001b[0;34m(cls, path)\u001b[0m\n",
            "\u001b[0;31mOSError\u001b[0m: [Errno 45] Operation not supported"
          ]
        }
      ],
      "source": [
        "import pandas as pd\n",
        "pd.DataFrame({'a':[1,2,3], 'b':['a', 'b', 'c']})"
      ]
    },
    {
      "cell_type": "markdown",
      "metadata": {
        "id": "E2iDVRYc9fFi"
      },
      "source": [
        "It looks that pandas dataframes are the appropriate data structure for representing data. However, scikit-learn can only use numpy matrices. Therefore, categorical values must be encoded as numbers. The typical workflow when working with scikit-learn is:\n",
        "1. Load data as a Pandas dataframe\n",
        "2. Do EDA (Exploratory Data Analysis) to understand your data\n",
        "3. Encode the Pandas dataframe as a numpy matrix (get rid of categorical values and missing values)\n",
        "4. Do machine learning with scikit-learn"
      ]
    },
    {
      "cell_type": "markdown",
      "metadata": {
        "id": "J9dwWGrb4QXi"
      },
      "source": [
        "# Scikit-learn (sklearn): \n",
        "- Collection of machine learning algorithms and tools in Python.\n",
        "- [http://scikit-learn.org/stable/](SCIKIT-LEARN)\n",
        "\n",
        "** Other packages for Machine Learning in Python: **\n",
        "- Pylearn2\n",
        "- PyBrain\n",
        "- ..."
      ]
    },
    {
      "cell_type": "markdown",
      "metadata": {
        "id": "DL5_Er0v4QXl"
      },
      "source": [
        "\n",
        "\n",
        "\n",
        "\n",
        "# Input data for sklearn (numeric matrices)"
      ]
    },
    {
      "cell_type": "markdown",
      "metadata": {
        "id": "m-3u_OGV4QXm"
      },
      "source": [
        "- Datasets for sklearn are numpy **numeric** matrices:\n",
        "- This implies that categorical attributes/features must be represented as:\t\n",
        "    - Integers\n",
        "    - One-hot-encoding / dummy variables\n",
        "\n",
        "- However, there is a trend for integrating Pandas dataframes with scikit learn\n",
        "- Missing values are represented as np.nan\n"
      ]
    },
    {
      "cell_type": "markdown",
      "metadata": {
        "id": "iMtbmEyl4QXm"
      },
      "source": [
        "- A simple example of dataset is the iris dataset, which is included within sklearn itself.\n",
        "- Otherwise, we would have to load it from a file"
      ]
    },
    {
      "cell_type": "code",
      "execution_count": null,
      "metadata": {
        "id": "SwhF9rEr4QXm",
        "outputId": "e9ff3aef-2cfb-4ea7-e259-0a996e3a7440"
      },
      "outputs": [
        {
          "ename": "OSError",
          "evalue": "[Errno 45] Operation not supported",
          "output_type": "error",
          "traceback": [
            "\u001b[0;31m---------------------------------------------------------------------------\u001b[0m",
            "\u001b[0;31mOSError\u001b[0m                                   Traceback (most recent call last)",
            "Cell \u001b[0;32mIn [2], line 1\u001b[0m\n\u001b[0;32m----> 1\u001b[0m \u001b[38;5;28;01mimport\u001b[39;00m \u001b[38;5;21;01mnumpy\u001b[39;00m \u001b[38;5;28;01mas\u001b[39;00m \u001b[38;5;21;01mnp\u001b[39;00m\n\u001b[1;32m      2\u001b[0m \u001b[38;5;28;01mfrom\u001b[39;00m \u001b[38;5;21;01msklearn\u001b[39;00m\u001b[38;5;21;01m.\u001b[39;00m\u001b[38;5;21;01mdatasets\u001b[39;00m \u001b[38;5;28;01mimport\u001b[39;00m load_iris\n\u001b[1;32m      3\u001b[0m iris_meta \u001b[38;5;241m=\u001b[39m load_iris()\n",
            "File \u001b[0;32m<frozen importlib._bootstrap>:1007\u001b[0m, in \u001b[0;36m_find_and_load\u001b[0;34m(name, import_)\u001b[0m\n",
            "File \u001b[0;32m<frozen importlib._bootstrap>:982\u001b[0m, in \u001b[0;36m_find_and_load_unlocked\u001b[0;34m(name, import_)\u001b[0m\n",
            "File \u001b[0;32m<frozen importlib._bootstrap>:925\u001b[0m, in \u001b[0;36m_find_spec\u001b[0;34m(name, path, target)\u001b[0m\n",
            "File \u001b[0;32m<frozen importlib._bootstrap_external>:1414\u001b[0m, in \u001b[0;36mfind_spec\u001b[0;34m(cls, fullname, path, target)\u001b[0m\n",
            "File \u001b[0;32m<frozen importlib._bootstrap_external>:1383\u001b[0m, in \u001b[0;36m_get_spec\u001b[0;34m(cls, fullname, path, target)\u001b[0m\n",
            "File \u001b[0;32m<frozen importlib._bootstrap_external>:1347\u001b[0m, in \u001b[0;36m_path_importer_cache\u001b[0;34m(cls, path)\u001b[0m\n",
            "\u001b[0;31mOSError\u001b[0m: [Errno 45] Operation not supported"
          ]
        }
      ],
      "source": [
        "import numpy as np\n",
        "from sklearn.datasets import load_iris\n",
        "iris_meta = load_iris()"
      ]
    },
    {
      "cell_type": "code",
      "execution_count": null,
      "metadata": {
        "id": "i4XLUUY-4QXn",
        "pycharm": {
          "is_executing": true
        }
      },
      "outputs": [],
      "source": [
        "print(iris_meta.feature_names)"
      ]
    },
    {
      "cell_type": "code",
      "execution_count": null,
      "metadata": {
        "id": "BraxjcIT4QXo"
      },
      "outputs": [],
      "source": [
        "print(iris_meta.target_names)"
      ]
    },
    {
      "cell_type": "markdown",
      "metadata": {
        "id": "IUWlrFzX4QXp"
      },
      "source": [
        "This is the actual data"
      ]
    },
    {
      "cell_type": "code",
      "execution_count": null,
      "metadata": {
        "id": "wETZD6q64QXp"
      },
      "outputs": [],
      "source": [
        "X = iris_meta.data\n",
        "y = iris_meta.target"
      ]
    },
    {
      "cell_type": "markdown",
      "metadata": {
        "id": "eTfFws3S4QXq"
      },
      "source": [
        "- We can see that X (the input features) is a 2-dimensional numpy array\n",
        "- and y (the response variable) is a numpy vector"
      ]
    },
    {
      "cell_type": "code",
      "execution_count": null,
      "metadata": {
        "id": "tTf1ylam4QXq"
      },
      "outputs": [],
      "source": [
        "print(type(X))\n",
        "print(X.shape) # 150 instances and 4 input features\n",
        "print(X.dtype) # Values are real numbers (float)"
      ]
    },
    {
      "cell_type": "code",
      "execution_count": null,
      "metadata": {
        "id": "xQb5GqPa4QXq"
      },
      "outputs": [],
      "source": [
        "print(type(y))\n",
        "print(y.shape) # 150 values of the response variable\n",
        "print(y.dtype) # Values are integers"
      ]
    },
    {
      "cell_type": "markdown",
      "metadata": {
        "id": "I1MSNYt04QXr"
      },
      "source": [
        "Let's visualize the first 10 instances"
      ]
    },
    {
      "cell_type": "code",
      "execution_count": null,
      "metadata": {
        "id": "-UOb_pJx4QXr"
      },
      "outputs": [],
      "source": [
        "print(X[0:10,0:4])"
      ]
    },
    {
      "cell_type": "code",
      "execution_count": null,
      "metadata": {
        "id": "Oa8xhgG34QXr"
      },
      "outputs": [],
      "source": [
        "print(y[0:10])"
      ]
    },
    {
      "cell_type": "markdown",
      "metadata": {
        "id": "GL8zQzuh4QXr"
      },
      "source": [
        "Below, we visualize the whole table, with the response variable being the last column.\n",
        "It is not necessary to do this when working with sklearn, it is just for visualization purposes."
      ]
    },
    {
      "cell_type": "code",
      "execution_count": null,
      "metadata": {
        "id": "LASHXWc74QXs"
      },
      "outputs": [],
      "source": [
        "np.concatenate((X,y[:,np.newaxis]), axis=1)[0:10]"
      ]
    },
    {
      "cell_type": "markdown",
      "metadata": {
        "id": "rke_0WUy4QXs"
      },
      "source": [
        "We can plot the iris dataset to see how it looks like."
      ]
    },
    {
      "cell_type": "code",
      "execution_count": null,
      "metadata": {
        "id": "SUtaFKIH4QXs"
      },
      "outputs": [],
      "source": [
        "import matplotlib.pyplot as plt\n",
        "plt.scatter(X[:, 0], X[:, 1], c=y, cmap=plt.cm.Paired)\n",
        "plt.xlabel('Sepal length')\n",
        "plt.ylabel('Sepal width')\n",
        "plt.show()"
      ]
    },
    {
      "cell_type": "markdown",
      "metadata": {
        "id": "C1HKbQlo4QXs"
      },
      "source": [
        "# Training a decision tree"
      ]
    },
    {
      "cell_type": "code",
      "execution_count": null,
      "metadata": {
        "id": "9zidraxu4QXt"
      },
      "outputs": [],
      "source": [
        "from sklearn import tree\n",
        "# Here, we define the type of training method (nothing happens yet)\n",
        "clf = tree.DecisionTreeClassifier()\n",
        "# Now, we train (fit) the method on the (X,y) dataset\n",
        "clf.fit(X, y)\n",
        "# clf **has been changed** and now contains the trained model"
      ]
    },
    {
      "cell_type": "markdown",
      "metadata": {
        "id": "QgtYgDGH4QXt"
      },
      "source": [
        "We can visualize the tree as text"
      ]
    },
    {
      "cell_type": "code",
      "execution_count": null,
      "metadata": {
        "id": "HXdfMAUC4QXt"
      },
      "outputs": [],
      "source": [
        "text_representation = tree.export_text(clf, feature_names=iris_meta.feature_names)\n",
        "print(text_representation)"
      ]
    },
    {
      "cell_type": "markdown",
      "metadata": {
        "id": "mvjUKYTd4QXt"
      },
      "source": [
        "We can also visualize the tree graphically"
      ]
    },
    {
      "cell_type": "code",
      "execution_count": null,
      "metadata": {
        "id": "LPEoeoGc4QXu"
      },
      "outputs": [],
      "source": [
        "import matplotlib.pyplot as plt\n",
        "fig = plt.figure(figsize=(25,20))\n",
        "_ = tree.plot_tree(clf,\n",
        "                   feature_names = iris_meta.feature_names,\n",
        "                   class_names=iris_meta.target_names,\n",
        "                   filled=True)"
      ]
    },
    {
      "cell_type": "markdown",
      "metadata": {
        "id": "bDexRXHP4QXu"
      },
      "source": [
        "# Training and evaluating a decision tree with a test set (holdout)"
      ]
    },
    {
      "cell_type": "code",
      "execution_count": null,
      "metadata": {
        "id": "O7uNOyNv4QXu"
      },
      "outputs": [],
      "source": [
        "from sklearn.model_selection import train_test_split"
      ]
    },
    {
      "cell_type": "markdown",
      "metadata": {
        "id": "f-4APKeP4QXu"
      },
      "source": [
        "- Now we create the training (X_train, y_train) and testing (X_test, y_test) partitions: 2/3 for training, 1/3 for testing\n",
        "- Notice the **random_state=42** for reproducibility (important!)"
      ]
    },
    {
      "cell_type": "code",
      "execution_count": null,
      "metadata": {
        "id": "HSfsVFxH4QXu"
      },
      "outputs": [],
      "source": [
        "X_train, X_test, y_train, y_test = train_test_split(X, y, test_size=0.33, random_state=42)"
      ]
    },
    {
      "cell_type": "code",
      "execution_count": null,
      "metadata": {
        "id": "7OQ_uQ0CelIl"
      },
      "outputs": [],
      "source": [
        "X_train[0:5]"
      ]
    },
    {
      "cell_type": "markdown",
      "metadata": {
        "id": "L1OxaH3-4QXv"
      },
      "source": [
        "Shape of the training and testing partitions"
      ]
    },
    {
      "cell_type": "code",
      "execution_count": null,
      "metadata": {
        "id": "sLayO_Ir4QXv"
      },
      "outputs": [],
      "source": [
        "print(X_train.shape, y_train.shape) # 100 instances for training\n",
        "print(X_test.shape, y_test.shape)   # 50 instances for testing"
      ]
    },
    {
      "cell_type": "markdown",
      "metadata": {
        "id": "Fxjyn5es4QXv"
      },
      "source": [
        "Let's print the five first training instances"
      ]
    },
    {
      "cell_type": "code",
      "execution_count": null,
      "metadata": {
        "id": "jS3dEvOK4QXv"
      },
      "outputs": [],
      "source": [
        "print(\"INPUT FEATURES:\")\n",
        "print(X_train[:5,:])\n",
        "print(\"RESPONSE:\")\n",
        "print(y_train[:5])"
      ]
    },
    {
      "cell_type": "markdown",
      "metadata": {
        "id": "M-hCi0G-4QXv"
      },
      "source": [
        "If we create the partition again, it will be the same as before if we use the same random state"
      ]
    },
    {
      "cell_type": "code",
      "execution_count": null,
      "metadata": {
        "id": "EMUbPInn4QXv"
      },
      "outputs": [],
      "source": [
        "X_train, X_test, y_train, y_test = train_test_split(X, y, test_size=0.33, random_state=42)\n",
        "print(\"INPUT FEATURES:\")\n",
        "print(X_train[:5,:])"
      ]
    },
    {
      "cell_type": "markdown",
      "metadata": {
        "id": "PJwTUDiv4QXv"
      },
      "source": [
        "But it will be different if we change the random seed"
      ]
    },
    {
      "cell_type": "code",
      "execution_count": null,
      "metadata": {
        "id": "C9iUH1c14QXw"
      },
      "outputs": [],
      "source": [
        "X_train, X_test, y_train, y_test = train_test_split(X, y, test_size=0.33, random_state=24)\n",
        "print(\"INPUT FEATURES:\")\n",
        "print(X_train[:5,:])"
      ]
    },
    {
      "cell_type": "code",
      "execution_count": null,
      "metadata": {
        "id": "GwiXO5WR4QXw"
      },
      "outputs": [],
      "source": [
        "# Let's keep the original partition (with random state=42)\n",
        "X_train, X_test, y_train, y_test = train_test_split(X, y, test_size=0.33, random_state=42)"
      ]
    },
    {
      "cell_type": "markdown",
      "metadata": {
        "id": "2W36mNPh4QXw"
      },
      "source": [
        "- Now, we train the tree with .fit\n",
        "- Notice that we use np.random.seed(42) so that the training of the tree is also reproducible (in case that tree training is not deterministic)"
      ]
    },
    {
      "cell_type": "code",
      "execution_count": null,
      "metadata": {
        "id": "pGUABN5a4QXw"
      },
      "outputs": [],
      "source": [
        "from sklearn import metrics\n",
        "from sklearn import tree\n",
        "\n",
        "# Here, we set our model to classification tree\n",
        "clf = tree.DecisionTreeClassifier()\n",
        "# Making results reproducible, in case training a tree contains random decisions\n",
        "np.random.seed(42)\n",
        "# Now, we train it\n",
        "clf.fit(X_train, y_train)\n",
        "# We can see that the tree is inside\n",
        "print(tree.export_text(clf))"
      ]
    },
    {
      "cell_type": "markdown",
      "metadata": {
        "id": "tsF1kKuQ4QXw"
      },
      "source": [
        "By the way, we can get help of any function (like .fit)"
      ]
    },
    {
      "cell_type": "code",
      "execution_count": null,
      "metadata": {
        "id": "my616HwN4QXw"
      },
      "outputs": [],
      "source": [
        "?clf.fit"
      ]
    },
    {
      "cell_type": "markdown",
      "metadata": {
        "id": "2jqPY0dT4QXw"
      },
      "source": [
        "Now, we evaluate the tree, by computing predictions on the test set"
      ]
    },
    {
      "cell_type": "code",
      "execution_count": null,
      "metadata": {
        "id": "eCGTo5oO4QXx"
      },
      "outputs": [],
      "source": [
        "y_test_pred = clf.predict(X_test)"
      ]
    },
    {
      "cell_type": "markdown",
      "metadata": {
        "id": "bfu7AeHg4QXx"
      },
      "source": [
        "We can check the predictions for the testing instances"
      ]
    },
    {
      "cell_type": "code",
      "execution_count": null,
      "metadata": {
        "id": "VEzdzi7_4QXx"
      },
      "outputs": [],
      "source": [
        "print(y_test_pred)"
      ]
    },
    {
      "cell_type": "markdown",
      "metadata": {
        "id": "1qgkCQxm4QXx"
      },
      "source": [
        "For the sake of visualization, we can compare predictions and actual values (ground truth of the response variable). We can see that for the first 5 instances, it is always correct."
      ]
    },
    {
      "cell_type": "code",
      "execution_count": null,
      "metadata": {
        "id": "-K2BLDm24QXx"
      },
      "outputs": [],
      "source": [
        "print(np.hstack((y_test_pred[:5,np.newaxis], y_test[:5,np.newaxis])))"
      ]
    },
    {
      "cell_type": "markdown",
      "metadata": {
        "id": "NCpZW27s4QXx"
      },
      "source": [
        "- But, in order to evaluate the model on the test partition, we can compute a metric (classification accuracy in this case)\n",
        "- It is very high (98%)"
      ]
    },
    {
      "cell_type": "code",
      "execution_count": null,
      "metadata": {
        "id": "uspUaRJe4QXx"
      },
      "outputs": [],
      "source": [
        "from sklearn import metrics\n",
        "accuracy_tree = metrics.accuracy_score(y_test, y_test_pred)\n",
        "print(accuracy_tree)"
      ]
    },
    {
      "cell_type": "markdown",
      "metadata": {
        "id": "CjgSbJvq4QXx"
      },
      "source": [
        "However, the 0.98 accuracy is the model evaluation (estimation of performance). We still need to compute the final model (the one that will be sent and used by the company) **using all available data**."
      ]
    },
    {
      "cell_type": "code",
      "execution_count": null,
      "metadata": {
        "id": "VN0n0ZU94QXy"
      },
      "outputs": [],
      "source": [
        "final_clf = tree.DecisionTreeClassifier()\n",
        "# Making results reproducible, in case training a tree contains random decisions\n",
        "np.random.seed(42)\n",
        "# Now, we train it\n",
        "final_clf.fit(X, y)\n",
        "# final_clf contains the model that would be used by the company\n",
        "# Its estimated accuracy is what we computed before (95%)"
      ]
    },
    {
      "cell_type": "markdown",
      "metadata": {
        "id": "8Bzm7znT4QXy"
      },
      "source": [
        "By the way, we can store (and load) this model on a file. This is called \"model persistence\""
      ]
    },
    {
      "cell_type": "code",
      "execution_count": null,
      "metadata": {
        "id": "V_ukcKMF4QXy"
      },
      "outputs": [],
      "source": [
        "from joblib import dump, load\n",
        "# Save the final model to a file\n",
        "dump(final_clf, 'final_tree.joblib') \n",
        "# Load the tree from the file\n",
        "final_clf_reloaded = load('final_tree.joblib') "
      ]
    },
    {
      "cell_type": "markdown",
      "metadata": {
        "id": "ObJu3av94QXy"
      },
      "source": [
        "Below, you have the complete code"
      ]
    },
    {
      "cell_type": "code",
      "execution_count": null,
      "metadata": {
        "id": "Fv2Zgzb94QXy"
      },
      "outputs": [],
      "source": [
        "from sklearn.model_selection import train_test_split\n",
        "from sklearn import metrics\n",
        "from sklearn import tree\n",
        "\n",
        "# Train/test split\n",
        "X_train, X_test, y_train, y_test = train_test_split(X, y, test_size=0.33, random_state=42)\n",
        "\n",
        "# Here, we set our model to classification tree\n",
        "clf = tree.DecisionTreeClassifier()\n",
        "np.random.seed(42) # reproducibility\n",
        "# We train it\n",
        "clf.fit(X_train, y_train)\n",
        "# We obtain predictions on the test set\n",
        "y_test_pred = clf.predict(X_test)\n",
        "# We compute accuracy\n",
        "accuracy_tree = metrics.accuracy_score(y_test, y_test_pred)\n",
        "print(f\"Accuracy of the tree: {accuracy_tree} \")\n",
        "\n",
        "# We finally compute the final model with all available data\n",
        "\n",
        "final_clf = tree.DecisionTreeClassifier()\n",
        "np.random.seed(42)  # reproducibility\n",
        "final_clf.fit(X, y)"
      ]
    },
    {
      "cell_type": "markdown",
      "metadata": {
        "id": "f7lsOqmTBnzt"
      },
      "source": [
        "# Exercise: do the fit, predict, model evaluation, and final_model construction  with KNN.\n",
        "\n",
        "- This one can be used for classification:\n",
        "\n",
        "from sklearn.neighbors import KNeighborsClassifier\n",
        "\n",
        "- This one can be used for regression:\n",
        "\n",
        "from sklearn.neighbors import KNeighborsRegressor\n",
        "\n"
      ]
    },
    {
      "cell_type": "code",
      "execution_count": null,
      "metadata": {
        "id": "VSb9cSjfNafr"
      },
      "outputs": [],
      "source": [
        "from sklearn.model_selection import train_test_split\n",
        "from sklearn import metrics\n",
        "from sklearn.neighbors import KNeighborsClassifier\n",
        "\n",
        "# Train/test split\n",
        "X_train, X_test, y_train, y_test = train_test_split(X, y, test_size=0.33, random_state=42)\n",
        "\n",
        "# Here, we set our model to classification tree\n",
        "clf = KNeighborsClassifier()\n",
        "np.random.seed(42) # reproducibility\n",
        "# We train it\n",
        "clf.fit(X_train, y_train)\n",
        "# We obtain predictions on the test set\n",
        "y_test_pred = clf.predict(X_test)\n",
        "# We compute accuracy\n",
        "accuracy_knn = metrics.accuracy_score(y_test, y_test_pred)\n",
        "print(f\"Accuracy of KNN: {accuracy_knn} \")\n",
        "\n",
        "# We finally compute the final model with all available data\n",
        "\n",
        "final_clf = KNeighborsClassifier()\n",
        "np.random.seed(42)  # reproducibility\n",
        "final_clf.fit(X, y)"
      ]
    },
    {
      "cell_type": "markdown",
      "metadata": {
        "id": "hX9_a4E94QXy"
      },
      "source": [
        "# Training and evaluating a decision tree with crossvalidation"
      ]
    },
    {
      "cell_type": "markdown",
      "metadata": {
        "id": "HiMzev7a4QX0"
      },
      "source": [
        "- First, we are going to do crossvalidation with a loop, so that we understand the process better\n",
        "- However (!!), it is better to do crossvalidation with the cross_val_score function, as we will do later"
      ]
    },
    {
      "cell_type": "markdown",
      "metadata": {
        "id": "r121gQdC4QX0"
      },
      "source": [
        "- KFold creates the training/test crossvalidation folds.\n",
        "    - shuffle randomly shuffles the data before splitting the folds. We should always do this, unless we have good reasons otherwise\n",
        "    - random_state makes the shuffling reproducible"
      ]
    },
    {
      "cell_type": "code",
      "execution_count": null,
      "metadata": {
        "id": "ECsSw2by4QX0"
      },
      "outputs": [],
      "source": [
        "from sklearn.model_selection import KFold\n",
        "cv = KFold(n_splits=5, shuffle=True, random_state=42)"
      ]
    },
    {
      "cell_type": "markdown",
      "metadata": {
        "id": "9bOHa6wQ4QX0"
      },
      "source": [
        "- Now, we carry out crossvalidation by going through all 5 folds.\n",
        "- In every iteration:\n",
        "    - We train a model on the training folds\n",
        "    - We compute predictions on the testing folds\n",
        "    - We compute the metric (accuracy) and store it\n",
        "- When the crossvalidation loop ends, we compute the average (and std)    "
      ]
    },
    {
      "cell_type": "code",
      "execution_count": null,
      "metadata": {
        "id": "wI_3sDaF4QX0"
      },
      "outputs": [],
      "source": [
        "np.random.seed(42) # reproducibility\n",
        "\n",
        "# This variable will contain the 5 crossvalidation accuracies, one per iteration\n",
        "scores = []\n",
        "\n",
        "for train_index, test_index in cv.split(X):\n",
        "    print(f\"TRAIN: {train_index[:5]} ...\", f\"TEST: {test_index[:5]} ...\")\n",
        "    # Getting the actual training and testing partitions out of the indices\n",
        "    X_train, X_test = X[train_index,:], X[test_index,:]\n",
        "    y_train, y_test = y[train_index], y[test_index]\n",
        "  \n",
        "    # Training the model for this particular crossvalidation iteration\n",
        "    clf = tree.DecisionTreeClassifier()\n",
        "    clf.fit(X_train, y_train)\n",
        "    y_test_pred = clf.predict(X_test)\n",
        "    accuracy_tree = metrics.accuracy_score(y_test, y_test_pred)  \n",
        "    \n",
        "    print(f\"The accuracy for this crossval iteration is: {accuracy_tree}\")\n",
        "    print()\n",
        "    # We add this accuracy to the list\n",
        "    scores.append(accuracy_tree)\n",
        "    \n",
        "# Transforming scores from list to numpy array (this is just a technicallity)    \n",
        "scores = np.array(scores)  \n",
        "print(f\"All the accuracies are: {scores}\")\n",
        "print(f\"And the average crossvalidation accuracy is: {scores.mean():.2f} +- {scores.std():.2f}\")"
      ]
    },
    {
      "cell_type": "markdown",
      "metadata": {
        "id": "v7dfsh8t4QX0"
      },
      "source": [
        "- However, before we programmed the loop explicitely, in order to understand what crossvalidation does.\n",
        "- But crossvalidation is typically done by means of the cross_val_score function, as below"
      ]
    },
    {
      "cell_type": "code",
      "execution_count": null,
      "metadata": {
        "id": "ejuZVow54QX1"
      },
      "outputs": [],
      "source": [
        "from sklearn.model_selection import cross_val_score, KFold\n",
        "\n",
        "# create a k-fold crossvalidation iterator of k=5 folds\n",
        "# shuffle = True randomly rearranges the dataframe\n",
        "# random_state = 42 is for making the folds reproducible\n",
        "cv = KFold(n_splits=5, shuffle=True, random_state=42)\n",
        "clf = tree.DecisionTreeClassifier()\n",
        "\n",
        "# Making model training reproducible\n",
        "np.random.seed(42)\n",
        "\n",
        "scores = cross_val_score(clf, X, y, scoring='accuracy', cv = cv) \n",
        "\n",
        "print(f\"All the accuracies are: {scores}\")\n",
        "print(f\"And the average crossvalidation accuracy is: {scores.mean():.2f} +- {scores.std():.2f}\")"
      ]
    },
    {
      "cell_type": "markdown",
      "metadata": {
        "id": "INNQMn8n4QX1"
      },
      "source": [
        "- 0.95 is the model evaluation (estimation of performance).\n",
        "- But the final model has to be trained with all available data."
      ]
    },
    {
      "cell_type": "code",
      "execution_count": null,
      "metadata": {
        "id": "yNXty5034QX1"
      },
      "outputs": [],
      "source": [
        "final_clf = tree.DecisionTreeClassifier()\n",
        "# Making results reproducible, in case training a tree contains random decisions\n",
        "np.random.seed(42)\n",
        "# Now, we train it\n",
        "final_clf.fit(X, y)\n",
        "# final_clf contains the model that would be used by the company\n",
        "# Its estimated accuracy is what we computed before"
      ]
    },
    {
      "cell_type": "markdown",
      "metadata": {
        "id": "prQCnIMt4QX1"
      },
      "source": [
        "Below, you have the complete code for crossvalidation evaluation (and also obtaining the final model at the end)"
      ]
    },
    {
      "cell_type": "code",
      "execution_count": null,
      "metadata": {
        "id": "ZT8P6pJz4QX1"
      },
      "outputs": [],
      "source": [
        "from sklearn import metrics\n",
        "from sklearn import tree\n",
        "from sklearn.model_selection import KFold, cross_val_score\n",
        "\n",
        "# create a k-fold crossvalidation iterator of k=5 folds\n",
        "# shuffle = True randomly rearranges the dataframe\n",
        "# random_state = 42 is for making the folds reproducible\n",
        "cv = KFold(n_splits=5, shuffle=True, random_state=42)\n",
        "clf = tree.DecisionTreeClassifier()\n",
        "\n",
        "# Making model training reproducible\n",
        "np.random.seed(42)\n",
        "\n",
        "scores = cross_val_score(clf, X, y, scoring='accuracy', cv = cv) \n",
        "\n",
        "# print(f\"All the accuracies are: {scores}\")\n",
        "print(f\"The average crossvalidation accuracy is: {scores.mean():.2f} +- {scores.std():.2f}\")\n",
        "\n",
        "final_clf = tree.DecisionTreeClassifier()\n",
        "# Making results reproducible, in case training a tree contains random decisions\n",
        "np.random.seed(42)\n",
        "# Now, we train it\n",
        "final_clf.fit(X, y)\n",
        "# final_clf contains the model that would be used by the company"
      ]
    },
    {
      "cell_type": "markdown",
      "metadata": {
        "id": "q7FP2q4V4QX1"
      },
      "source": [
        "# Changing hyperparameters of a decision tree"
      ]
    },
    {
      "cell_type": "markdown",
      "metadata": {
        "id": "ewZT0QkW4QX1"
      },
      "source": [
        "https://scikit-learn.org/stable/modules/generated/sklearn.tree.DecisionTreeClassifier.html  "
      ]
    },
    {
      "cell_type": "code",
      "execution_count": null,
      "metadata": {
        "id": "7Q_jHJgb4QX1"
      },
      "outputs": [],
      "source": [
        "from sklearn.model_selection import train_test_split\n",
        "from sklearn import metrics\n",
        "from sklearn import tree\n",
        "\n",
        "X_train, X_test, y_train, y_test = train_test_split(X, y, test_size=0.33, random_state=42)"
      ]
    },
    {
      "cell_type": "markdown",
      "metadata": {
        "id": "C0eoV0e54QX2"
      },
      "source": [
        "Let's see the effect of changing from gini to entropy. We use holdout here. It seems that results are exactly the same."
      ]
    },
    {
      "cell_type": "code",
      "execution_count": null,
      "metadata": {
        "id": "eN-4gAJg4QX2"
      },
      "outputs": [],
      "source": [
        "# This loop checks what happens with the two criterions\n",
        "for criterion in [\"gini\", \"entropy\"]:\n",
        "    clf = tree.DecisionTreeClassifier(criterion=criterion)\n",
        "    np.random.seed(42)\n",
        "    clf.fit(X_train,y_train)\n",
        "    y_test_pred = clf.predict(X_test)\n",
        "    accuracy_tree = metrics.accuracy_score(y_test, y_test_pred)\n",
        "    print(f\"With {criterion}: {accuracy_tree:.2f}\")"
      ]
    },
    {
      "cell_type": "markdown",
      "metadata": {
        "id": "KgKDmuV84QX2"
      },
      "source": [
        "Let's see the effects of maximum_depth. \"None\" represents the maximum possible depth. "
      ]
    },
    {
      "cell_type": "code",
      "execution_count": null,
      "metadata": {
        "id": "UHjavMZk4QX2"
      },
      "outputs": [],
      "source": [
        "for max_depth in [1,2,3,None]:\n",
        "    clf = tree.DecisionTreeClassifier(max_depth=max_depth)\n",
        "    np.random.seed(42)\n",
        "    clf.fit(X_train,y_train)\n",
        "    y_test_pred = clf.predict(X_test)\n",
        "    accuracy_tree = metrics.accuracy_score(y_test, y_test_pred)\n",
        "    print(f\"With max_depth {max_depth}: {accuracy_tree:.2f}\")"
      ]
    },
    {
      "cell_type": "markdown",
      "metadata": {
        "id": "qZ1FfR1l4QX2"
      },
      "source": [
        "It seems that max_depth=2 is enough. Let's visualize a tree with max depth = 2"
      ]
    },
    {
      "cell_type": "code",
      "execution_count": null,
      "metadata": {
        "id": "2ipRiYjF4QX2"
      },
      "outputs": [],
      "source": [
        "import matplotlib.pyplot as plt\n",
        "fig = plt.figure(figsize=(5,4))\n",
        "\n",
        "clf = tree.DecisionTreeClassifier(max_depth=2)\n",
        "np.random.seed(42)\n",
        "clf.fit(X_train,y_train)\n",
        "    \n",
        "_ = tree.plot_tree(clf,\n",
        "                   feature_names = iris_meta.feature_names,\n",
        "                   class_names=iris_meta.target_names,\n",
        "                   filled=True)"
      ]
    },
    {
      "cell_type": "markdown",
      "metadata": {
        "id": "4-Vh6got4QX2"
      },
      "source": [
        "Let's see the effects of min_samples_split. 2 is the default."
      ]
    },
    {
      "cell_type": "code",
      "execution_count": null,
      "metadata": {
        "id": "e1BeviS94QX2"
      },
      "outputs": [],
      "source": [
        "for min_samples in [2,10,20,30,100]:\n",
        "    clf = tree.DecisionTreeClassifier(min_samples_split=min_samples)\n",
        "    np.random.seed(42)\n",
        "    clf.fit(X_train,y_train)\n",
        "    y_test_pred = clf.predict(X_test)\n",
        "    accuracy_tree = metrics.accuracy_score(y_test, y_test_pred)\n",
        "    print(f\"With min_samples_split {min_samples}: {accuracy_tree:.2f}\")"
      ]
    },
    {
      "cell_type": "markdown",
      "metadata": {
        "id": "ZkXAUuStFKid"
      },
      "source": [
        "Finally, let's check another hyper-parameter called min_impurity_decrease: this means that a new level of the tree is created only if the information gain (that is, the decrease in entropy or gini) is larger than min_impurity_decrease. It is yet another way of controlling tree depth."
      ]
    },
    {
      "cell_type": "code",
      "execution_count": null,
      "metadata": {
        "id": "Su3NPiA94QX3"
      },
      "outputs": [],
      "source": [
        "for min_impurity_decrease in np.linspace(0,2,num=10):\n",
        "    clf = tree.DecisionTreeClassifier(min_impurity_decrease=min_impurity_decrease)\n",
        "    np.random.seed(42)\n",
        "    clf.fit(X_train,y_train)\n",
        "    y_test_pred = clf.predict(X_test)\n",
        "    accuracy_tree = metrics.accuracy_score(y_test, y_test_pred)\n",
        "    print(f\"With min_impurity_decrease {min_impurity_decrease}: {accuracy_tree:.2f}\")"
      ]
    },
    {
      "cell_type": "markdown",
      "metadata": {
        "id": "RAJYiJr1OYmz"
      },
      "source": [
        "# Exercise: check the effect of changing hyper-parameter number of neighbors of KNN.\n",
        "\n",
        "Help about KNN in sklearn:\n",
        "\n",
        "KNN for classification is:\n",
        "\n",
        "from sklearn.neighbors import KNeighborsClassifier\n",
        "\n",
        "It can be defined with:\n",
        "\n",
        "clf = KNeighborsClassifier()\n",
        "\n",
        "(and then trained with .fit).\n",
        "\n",
        "Help for KNN for classification here:\n",
        "\n",
        "https://scikit-learn.org/stable/modules/generated/sklearn.neighbors.KNeighborsClassifier.html\n",
        "\n",
        "You can also check what happens when you change hyper-parameter weights, that can have three different values:\n",
        "\n",
        "- ‘uniform’ : uniform weights. All points in each neighborhood are weighted equally.\n",
        "\n",
        "- ‘distance’ : weight points by the inverse of their distance. in this case, closer neighbors of a query point will have a greater influence than neighbors which are further away.\n",
        "\n"
      ]
    },
    {
      "cell_type": "code",
      "execution_count": null,
      "metadata": {
        "id": "BnCg6h_MCPM4"
      },
      "outputs": [],
      "source": [
        "from sklearn.neighbors import KNeighborsClassifier\n",
        "X_train, X_test, y_train, y_test = train_test_split(X, y, test_size=0.33, random_state=42)\n",
        "\n",
        "for k in range(1,100,5):\n",
        "    clf = KNeighborsClassifier(n_neighbors=k)\n",
        "    np.random.seed(42)\n",
        "    clf.fit(X_train,y_train)\n",
        "    y_test_pred = clf.predict(X_test)\n",
        "    accuracy_knn = metrics.accuracy_score(y_test, y_test_pred)\n",
        "    print(f\"With k neighbors {k}: {accuracy_knn:.2f}\")"
      ]
    },
    {
      "cell_type": "markdown",
      "metadata": {
        "id": "ZFONncXU4QX3"
      },
      "source": [
        "# Dealing with categorical variables in DecisionTreeClassifier\n",
        "\n",
        "- Sklearn implementation of trees CANNOT deal with categorical variables (in most cases).\n",
        "- They must be converted to dummy variables (one-hot-encoding)\n",
        "- Sklearn trees cannot deal with missing values either\n",
        "\n",
        "The typical workflow when working with scikit-learn is:\n",
        "\n",
        "1. Load data as a Pandas dataframe\n",
        "\n",
        "2. Do EDA (Exploratory Data Analysis) to understand your data. And this means:\n",
        "  - How many instances and attributes there are\n",
        "  - What type of attributes there are (numerical or categorical). This is done to check whether there are categorical features that should be encoded (as dummies / one-hot-encoding)\n",
        "  - What attributes have missing values, and how many\n",
        "  - Whether it is a classification or a regression problem (response variable), and in case of classification, whether the class is imbalanced.\n",
        "\n",
        "3. Encode the Pandas dataframe as a numpy matrix (get rid of categorical values and missing values)\n",
        "\n",
        "4. Do machine learning with scikit-learn"
      ]
    },
    {
      "cell_type": "code",
      "execution_count": null,
      "metadata": {
        "id": "y5_UHlRVJqtw"
      },
      "outputs": [],
      "source": [
        "# This is for uploading tennis.txt from your hard drive into Colab\n",
        "\n",
        "from google.colab import files\n",
        "import io\n",
        "uploaded = files.upload()\n",
        "tennis_tmp = io.BytesIO(uploaded['tennis.txt'])"
      ]
    },
    {
      "cell_type": "code",
      "execution_count": null,
      "metadata": {
        "id": "ueoMs8uHk2vw"
      },
      "outputs": [],
      "source": [
        "# There are other ways of accessing files from google colab \n",
        "# https://neptune.ai/blog/google-colab-dealing-with-files\n",
        "# Code below allows to mount your google drive and load data directly from GD\n",
        "# from google.colab import drive\n",
        "# drive.mount('/content/gdrive')"
      ]
    },
    {
      "cell_type": "code",
      "execution_count": null,
      "metadata": {
        "id": "vGwW0YWM4QX3"
      },
      "outputs": [],
      "source": [
        "import pandas as pd\n",
        "tennis_df = pd.read_csv(\"tennis.txt\", sep=\",\")"
      ]
    },
    {
      "cell_type": "markdown",
      "metadata": {
        "id": "8-jAr-k5KQfe"
      },
      "source": [
        "We can check the first instances of sky with head"
      ]
    },
    {
      "cell_type": "code",
      "execution_count": null,
      "metadata": {
        "id": "C6fyz7ae4QX3"
      },
      "outputs": [],
      "source": [
        "tennis_df.head()"
      ]
    },
    {
      "cell_type": "markdown",
      "metadata": {
        "id": "_mdqmMcdKYcl"
      },
      "source": [
        "With this dataset is very small, so we can visualize it whole"
      ]
    },
    {
      "cell_type": "code",
      "execution_count": null,
      "metadata": {
        "id": "pGckFPDlKdc2"
      },
      "outputs": [],
      "source": [
        "tennis_df"
      ]
    },
    {
      "cell_type": "code",
      "execution_count": null,
      "metadata": {
        "id": "Vw_EJnkwLD9d"
      },
      "outputs": [],
      "source": [
        "print('The shape of the data table is:')\n",
        "print('===============================')\n",
        "print(tennis_df.shape)\n",
        "print()\n",
        "\n",
        "print('The types of the attributes are:')\n",
        "print('================================')\n",
        "tennis_df.info()\n",
        "\n",
        "print()\n",
        "\n",
        "print('How many missing values per attribute:')\n",
        "print('======================================')\n",
        "print(tennis_df.isnull().sum())\n",
        "\n",
        "print()\n",
        "\n",
        "print('Fraction of missing values per attribute:')\n",
        "print('======================================')\n",
        "print(tennis_df.isnull().mean())\n"
      ]
    },
    {
      "cell_type": "markdown",
      "metadata": {
        "id": "_WpY6Yu8PPFm"
      },
      "source": [
        "Finally, we check whether the response variable is imbalanced. We can see it is not too imbalanced."
      ]
    },
    {
      "cell_type": "code",
      "execution_count": null,
      "metadata": {
        "id": "rG4XjXvQPJ61"
      },
      "outputs": [],
      "source": [
        "print(tennis_df.Play.value_counts())\n",
        "\n",
        "print()\n",
        "\n",
        "print(tennis_df['Play'].value_counts())\n",
        "\n",
        "print()\n",
        "\n",
        "print(tennis_df['Play'].value_counts()/tennis_df['Play'].count())"
      ]
    },
    {
      "cell_type": "markdown",
      "metadata": {
        "id": "6T8D5USxa34S"
      },
      "source": [
        "Now, we are going to encode:\n",
        "- Our categorical features (Sky and Windy)\n",
        "- The response variable (the class: Play)\n",
        "\n",
        "But first, we will separate the data table into inputs (X) and output (y)\n",
        "\n",
        "We will use a ColumnTransformer, that allows to process only some particular columns, and leaves the others untouched (passthrough)"
      ]
    },
    {
      "cell_type": "code",
      "execution_count": null,
      "metadata": {
        "id": "6XLHZORsa0yz"
      },
      "outputs": [],
      "source": [
        "y_df = tennis_df['Play']\n",
        "print(y_df)"
      ]
    },
    {
      "cell_type": "code",
      "execution_count": null,
      "metadata": {
        "id": "6SKomsD9bgQU"
      },
      "outputs": [],
      "source": [
        "X_df = tennis_df.drop('Play', axis=1)\n",
        "print(X_df)"
      ]
    },
    {
      "cell_type": "markdown",
      "metadata": {
        "id": "QzuEqVg3a1ea"
      },
      "source": [
        "We will use now a ColumnTransformer, that allows to process only some particular columns, and leaves the others untouched (passthrough). In this case, we will process only the categorical ones. \n",
        "The output of this transformation is a numpy matrix (!!)"
      ]
    },
    {
      "cell_type": "code",
      "execution_count": null,
      "metadata": {
        "id": "wwdnSKoRA9CO"
      },
      "outputs": [],
      "source": [
        "from sklearn.preprocessing import OneHotEncoder\n",
        "from sklearn.compose import ColumnTransformer\n",
        "\n",
        "# numeric_features = ['Temperature', 'Humidity']\n",
        "categorical_features = ['Sky', 'Windy']\n",
        "\n",
        "preprocessor = ColumnTransformer(\n",
        "    transformers = [ \n",
        "                    ('categorical', OneHotEncoder(handle_unknown='ignore'), \n",
        "                                    categorical_features)\n",
        "                    ],\n",
        "                    remainder='passthrough' \n",
        ")\n",
        "\n",
        "preprocessor.fit(X_df)\n",
        "X = preprocessor.transform(X_df)\n",
        "\n",
        "# Notice that now we have 7 columnos\n",
        "print(X.shape)\n",
        "print()\n",
        "\n",
        "# Notice that now the type of the data matrix is numpy, which can already be used by sklearn\n",
        "print(type(X))\n",
        "print()\n",
        "\n",
        "# The first three columns are the dummies for Sky, the second two columns are the dummies for Windy\n",
        "# The last two columns are Temperature and Humidity, untouched\n",
        "# Please, notice that the order of columns has changed (not important, in principle)"
      ]
    },
    {
      "cell_type": "code",
      "execution_count": null,
      "metadata": {
        "id": "2WGtsLHX4QX4"
      },
      "outputs": [],
      "source": [
        "from sklearn.preprocessing import OneHotEncoder\n",
        "from sklearn.compose import ColumnTransformer\n",
        "\n",
        "# numeric_features = ['Temperature', 'Humidity']\n",
        "categorical_features = ['Sky', 'Windy']\n",
        "\n",
        "preprocessor = ColumnTransformer(\n",
        "    transformers = [ \n",
        "                    ('categorical', OneHotEncoder(drop='if_binary', \n",
        "                                                  handle_unknown='ignore'), \n",
        "                                    categorical_features)\n",
        "                    ],\n",
        "                    remainder='passthrough' \n",
        ")\n",
        "\n",
        "preprocessor.fit(X_df)\n",
        "X = preprocessor.transform(X_df)\n",
        "\n",
        "# Notice that now we have 6 columnos\n",
        "print(X.shape)\n",
        "print()\n",
        "\n",
        "# Notice that now the type of the data matrix is numpy, which can already be used by sklearn\n",
        "print(type(X))\n",
        "print()\n",
        "\n",
        "# The first three columns are the dummies for Sky, the second column is the dummy for Windy\n",
        "# The last two columns are Temperature and Humidity, untouched\n",
        "# Please, notice that the order of columns has changed, but the last versions of sklearn\n",
        "# return the names of variables, which is useful to understand where the variables come from\n",
        "\n",
        "print(X)\n",
        "\n",
        "from pprint import pprint\n",
        "pprint(list(preprocessor.get_feature_names_out()))"
      ]
    },
    {
      "cell_type": "markdown",
      "metadata": {
        "id": "bQ7O7ElKoyDp"
      },
      "source": [
        "Sometimes it is time consuming to enumerate all categorical columns. We can use make_column_selector / selector in order to select the types we need."
      ]
    },
    {
      "cell_type": "code",
      "execution_count": null,
      "metadata": {
        "id": "U4ATnGozohJZ"
      },
      "outputs": [],
      "source": [
        "from sklearn.preprocessing import OneHotEncoder\n",
        "from sklearn.compose import ColumnTransformer\n",
        "from sklearn.compose import make_column_selector as selector\n",
        "\n",
        "# numeric_features = ['Temperature', 'Humidity']\n",
        "categorical_features = ['Sky', 'Windy']\n",
        "\n",
        "preprocessor = ColumnTransformer(\n",
        "    transformers = [ \n",
        "                    ('categorical', OneHotEncoder(handle_unknown='ignore'),  \n",
        "                                    selector(dtype_include=[\"object\",\"bool\"]))\n",
        "                    ],\n",
        "                    remainder='passthrough' \n",
        ")\n",
        "\n",
        "preprocessor.fit(X_df)\n",
        "X = preprocessor.transform(X_df)\n",
        "\n",
        "# Notice that now we have 7 columnos\n",
        "print(X.shape)\n",
        "print()\n",
        "\n",
        "# Notice that now the type of the data matrix is numpy, which can already be used by sklearn\n",
        "print(type(X))\n",
        "print()\n",
        "\n",
        "# The first three columns are the dummies for Sky, the second two columns are the dummies for Windy\n",
        "# The last two columns are Temperature and Humidity, untouched\n",
        "# Please, notice that the order of columns has changed (not important, in principle)\n",
        "\n",
        "print(X)"
      ]
    },
    {
      "cell_type": "markdown",
      "metadata": {
        "id": "wDXkuInIduqR"
      },
      "source": [
        "Now, we need to encode the class into integers. We do that with labelencoder."
      ]
    },
    {
      "cell_type": "code",
      "execution_count": null,
      "metadata": {
        "id": "vfihfozAyP-N"
      },
      "outputs": [],
      "source": [
        "from sklearn import preprocessing\n",
        "le = preprocessing.LabelEncoder()\n",
        "le.fit(y_df)\n",
        "\n",
        "y = le.transform(y_df)\n",
        "print(y)\n",
        "\n",
        "# Actually, it seems that sklearn can use the original y_df, so we could have done y = y_df"
      ]
    },
    {
      "cell_type": "markdown",
      "metadata": {
        "id": "n7w5y9ASdgVF"
      },
      "source": [
        "Finally, we just copy the code for evaluating decision trees, and for constructing the final model.\n",
        "We apply that to our (X,y)"
      ]
    },
    {
      "cell_type": "code",
      "execution_count": null,
      "metadata": {
        "id": "B9sDNvM74QX4"
      },
      "outputs": [],
      "source": [
        "from sklearn.model_selection import train_test_split\n",
        "from sklearn import metrics\n",
        "from sklearn import tree\n",
        "\n",
        "# Train/test split\n",
        "X_train, X_test, y_train, y_test = train_test_split(X, y, test_size=0.33, random_state=42)\n",
        "\n",
        "# Here, we set our model to classification tree\n",
        "clf = tree.DecisionTreeClassifier()\n",
        "np.random.seed(42) # reproducibility\n",
        "# We train it\n",
        "clf.fit(X_train, y_train)\n",
        "# We obtain predictions on the test set\n",
        "y_test_pred = clf.predict(X_test)\n",
        "# We compute accuracy\n",
        "accuracy_tree = metrics.accuracy_score(y_test, y_test_pred)\n",
        "print(f\"Accuracy of the tree: {accuracy_tree} \")\n",
        "\n",
        "# We finally compute the final model with all available data\n",
        "\n",
        "final_clf = tree.DecisionTreeClassifier()\n",
        "np.random.seed(42)  # reproducibility\n",
        "final_clf.fit(X, y)"
      ]
    },
    {
      "cell_type": "code",
      "execution_count": null,
      "metadata": {
        "id": "rXrsYLX1assM"
      },
      "outputs": [],
      "source": [
        "import matplotlib.pyplot as plt\n",
        "fig = plt.figure(figsize=(10,8))\n",
        "    \n",
        "_ = tree.plot_tree(final_clf, \n",
        "                   feature_names = list(sorted(X_df['Sky'].unique())) + list(sorted(X_df['Windy'].unique())) + ['Temperature', 'Humidity'],\n",
        "                   class_names= list(sorted(y_df.unique())),\n",
        "                   filled=True)"
      ]
    },
    {
      "cell_type": "code",
      "execution_count": null,
      "metadata": {
        "id": "_3dHiNA53rdr"
      },
      "outputs": [],
      "source": [
        "# !pip install statsmodels"
      ]
    },
    {
      "cell_type": "markdown",
      "metadata": {
        "id": "Yvrx1JqN4yZm"
      },
      "source": [
        "Given that this is a 2-class classification problem, we can construct a confidence interval for the accuracy\n",
        "We can see it is very inaccurate ..."
      ]
    },
    {
      "cell_type": "code",
      "execution_count": null,
      "metadata": {
        "id": "JHaewbCxiBQ6"
      },
      "outputs": [],
      "source": [
        "from statsmodels.stats.proportion import proportion_confint\n",
        "print(f\"Only {len(y_test)} instances on the testing partition\")\n",
        "print(f\"Tree accuracy: {accuracy_tree} \")\n",
        "proportion_confint(len(y_test)* accuracy_tree, len(y_test), method=\"wilson\" )"
      ]
    },
    {
      "cell_type": "markdown",
      "metadata": {
        "id": "ADfIN64L4QX4"
      },
      "source": [
        "# Regression trees with holdout evaluation"
      ]
    },
    {
      "cell_type": "markdown",
      "metadata": {
        "id": "L2r3ejoO4QX4"
      },
      "source": [
        "Let's load the Boston dataset and check its description. Its data about housing prices depending on the characteristics of the zone**"
      ]
    },
    {
      "cell_type": "code",
      "execution_count": 41,
      "metadata": {
        "colab": {
          "base_uri": "https://localhost:8080/"
        },
        "id": "jRUioZm04QX4",
        "outputId": "c031fdc3-bd59-4b6d-bf39-d8cdedf05b01"
      },
      "outputs": [
        {
          "output_type": "stream",
          "name": "stdout",
          "text": [
            ".. _boston_dataset:\n",
            "\n",
            "Boston house prices dataset\n",
            "---------------------------\n",
            "\n",
            "**Data Set Characteristics:**  \n",
            "\n",
            "    :Number of Instances: 506 \n",
            "\n",
            "    :Number of Attributes: 13 numeric/categorical predictive. Median Value (attribute 14) is usually the target.\n",
            "\n",
            "    :Attribute Information (in order):\n",
            "        - CRIM     per capita crime rate by town\n",
            "        - ZN       proportion of residential land zoned for lots over 25,000 sq.ft.\n",
            "        - INDUS    proportion of non-retail business acres per town\n",
            "        - CHAS     Charles River dummy variable (= 1 if tract bounds river; 0 otherwise)\n",
            "        - NOX      nitric oxides concentration (parts per 10 million)\n",
            "        - RM       average number of rooms per dwelling\n",
            "        - AGE      proportion of owner-occupied units built prior to 1940\n",
            "        - DIS      weighted distances to five Boston employment centres\n",
            "        - RAD      index of accessibility to radial highways\n",
            "        - TAX      full-value property-tax rate per $10,000\n",
            "        - PTRATIO  pupil-teacher ratio by town\n",
            "        - B        1000(Bk - 0.63)^2 where Bk is the proportion of black people by town\n",
            "        - LSTAT    % lower status of the population\n",
            "        - MEDV     Median value of owner-occupied homes in $1000's\n",
            "\n",
            "    :Missing Attribute Values: None\n",
            "\n",
            "    :Creator: Harrison, D. and Rubinfeld, D.L.\n",
            "\n",
            "This is a copy of UCI ML housing dataset.\n",
            "https://archive.ics.uci.edu/ml/machine-learning-databases/housing/\n",
            "\n",
            "\n",
            "This dataset was taken from the StatLib library which is maintained at Carnegie Mellon University.\n",
            "\n",
            "The Boston house-price data of Harrison, D. and Rubinfeld, D.L. 'Hedonic\n",
            "prices and the demand for clean air', J. Environ. Economics & Management,\n",
            "vol.5, 81-102, 1978.   Used in Belsley, Kuh & Welsch, 'Regression diagnostics\n",
            "...', Wiley, 1980.   N.B. Various transformations are used in the table on\n",
            "pages 244-261 of the latter.\n",
            "\n",
            "The Boston house-price data has been used in many machine learning papers that address regression\n",
            "problems.   \n",
            "     \n",
            ".. topic:: References\n",
            "\n",
            "   - Belsley, Kuh & Welsch, 'Regression diagnostics: Identifying Influential Data and Sources of Collinearity', Wiley, 1980. 244-261.\n",
            "   - Quinlan,R. (1993). Combining Instance-Based and Model-Based Learning. In Proceedings on the Tenth International Conference of Machine Learning, 236-243, University of Massachusetts, Amherst. Morgan Kaufmann.\n",
            "\n"
          ]
        },
        {
          "output_type": "stream",
          "name": "stderr",
          "text": [
            "Function load_boston is deprecated; `load_boston` is deprecated in 1.0 and will be removed in 1.2.\n",
            "\n",
            "    The Boston housing prices dataset has an ethical problem. You can refer to\n",
            "    the documentation of this function for further details.\n",
            "\n",
            "    The scikit-learn maintainers therefore strongly discourage the use of this\n",
            "    dataset unless the purpose of the code is to study and educate about\n",
            "    ethical issues in data science and machine learning.\n",
            "\n",
            "    In this special case, you can fetch the dataset from the original\n",
            "    source::\n",
            "\n",
            "        import pandas as pd\n",
            "        import numpy as np\n",
            "\n",
            "\n",
            "        data_url = \"http://lib.stat.cmu.edu/datasets/boston\"\n",
            "        raw_df = pd.read_csv(data_url, sep=\"\\s+\", skiprows=22, header=None)\n",
            "        data = np.hstack([raw_df.values[::2, :], raw_df.values[1::2, :2]])\n",
            "        target = raw_df.values[1::2, 2]\n",
            "\n",
            "    Alternative datasets include the California housing dataset (i.e.\n",
            "    :func:`~sklearn.datasets.fetch_california_housing`) and the Ames housing\n",
            "    dataset. You can load the datasets as follows::\n",
            "\n",
            "        from sklearn.datasets import fetch_california_housing\n",
            "        housing = fetch_california_housing()\n",
            "\n",
            "    for the California housing dataset and::\n",
            "\n",
            "        from sklearn.datasets import fetch_openml\n",
            "        housing = fetch_openml(name=\"house_prices\", as_frame=True)\n",
            "\n",
            "    for the Ames housing dataset.\n",
            "    \n"
          ]
        }
      ],
      "source": [
        "# The Boston dataset is also included within sklearn\n",
        "from sklearn.datasets import load_boston\n",
        "boston_meta = load_boston()\n",
        "print(boston_meta.DESCR)"
      ]
    },
    {
      "cell_type": "code",
      "execution_count": 42,
      "metadata": {
        "colab": {
          "base_uri": "https://localhost:8080/"
        },
        "id": "4R6sLJoI4QX4",
        "outputId": "24d678f3-ef2a-47ab-d450-e01117fb93a2"
      },
      "outputs": [
        {
          "output_type": "stream",
          "name": "stdout",
          "text": [
            "(506, 13) (506,)\n"
          ]
        }
      ],
      "source": [
        "X = boston_meta.data\n",
        "y = boston_meta.target\n",
        "print(X.shape, y.shape)"
      ]
    },
    {
      "cell_type": "markdown",
      "metadata": {
        "id": "APMXvjj14QX4"
      },
      "source": [
        "The main change is that we use a DecisionTreeRegressor and the metric is now RMSE"
      ]
    },
    {
      "cell_type": "code",
      "execution_count": 43,
      "metadata": {
        "colab": {
          "base_uri": "https://localhost:8080/"
        },
        "id": "TZ21Wukc4QX5",
        "outputId": "9794ad60-5fb8-4eb4-df97-c113aa7ed5ad"
      },
      "outputs": [
        {
          "output_type": "stream",
          "name": "stdout",
          "text": [
            "RMSE of the tree: 4.338022949890013\n"
          ]
        }
      ],
      "source": [
        "from sklearn.model_selection import train_test_split\n",
        "from sklearn import metrics\n",
        "from sklearn import tree\n",
        "import numpy as np\n",
        "\n",
        "# Train/test split\n",
        "X_train, X_test, y_train, y_test = train_test_split(X, y, test_size=0.33, random_state=42)\n",
        "\n",
        "# Here, we set our model to classification tree\n",
        "regr = tree.DecisionTreeRegressor()\n",
        "np.random.seed(42) # reproducibility\n",
        "# We train it\n",
        "regr.fit(X_train, y_train)\n",
        "# We obtain predictions on the test set\n",
        "y_test_pred = regr.predict(X_test)\n",
        "# We compute accuracy\n",
        "rmse_tree = np.sqrt(metrics.mean_squared_error(y_test, y_test_pred))\n",
        "print(f\"RMSE of the tree: {rmse_tree}\")\n",
        "\n",
        "# We would have to compute the final model with all available data\n",
        "# Not done here, only interested on test RMSE"
      ]
    },
    {
      "cell_type": "markdown",
      "metadata": {
        "id": "JZnnKRiQyNOH"
      },
      "source": [
        "Is it better than a trivial regressor?"
      ]
    },
    {
      "cell_type": "code",
      "execution_count": 44,
      "metadata": {
        "colab": {
          "base_uri": "https://localhost:8080/"
        },
        "id": "RQiGRsbpyN0z",
        "outputId": "33ef3bae-550e-4e6a-a011-c4b4c7de1af9"
      },
      "outputs": [
        {
          "output_type": "stream",
          "name": "stdout",
          "text": [
            "RMSE of the tree: 4.338022949890013\n",
            "RMSE of dummy(mean): 8.799980682431661\n",
            "RMSE ratio tree/dummy(mean): 0.49295823552777457\n"
          ]
        }
      ],
      "source": [
        "from sklearn.dummy import DummyRegressor\n",
        "regr_mean = DummyRegressor(strategy=\"mean\")\n",
        "regr_mean.fit(X_train, y_train)\n",
        "rmse_mean = np.sqrt(metrics.mean_squared_error(y_test, regr_mean.predict(X_test)))\n",
        "\n",
        "print(f\"RMSE of the tree: {rmse_tree}\")\n",
        "print(f\"RMSE of dummy(mean): {rmse_mean}\")\n",
        "print(f\"RMSE ratio tree/dummy(mean): {rmse_tree/rmse_mean}\")"
      ]
    },
    {
      "cell_type": "markdown",
      "metadata": {
        "id": "qERBOOPQ0yzI"
      },
      "source": [
        "What about MAE?"
      ]
    },
    {
      "cell_type": "code",
      "execution_count": 45,
      "metadata": {
        "colab": {
          "base_uri": "https://localhost:8080/"
        },
        "id": "wJVUu1JO0xiJ",
        "outputId": "3d3022f7-deb9-41df-e8b9-a4bcb8e6c042"
      },
      "outputs": [
        {
          "output_type": "stream",
          "name": "stdout",
          "text": [
            "MAE of the tree: 2.953293413173653\n",
            "MAE of dummy(median): 6.119760479041916\n",
            "MAE ratio tree/dummy(median): 0.4825831702544032\n"
          ]
        }
      ],
      "source": [
        "mae_tree = metrics.mean_absolute_error(y_test, y_test_pred)\n",
        "\n",
        "from sklearn.dummy import DummyRegressor\n",
        "regr_median = DummyRegressor(strategy=\"median\")\n",
        "regr_median.fit(X_train, y_train)\n",
        "mae_median = metrics.mean_absolute_error(y_test, regr_median.predict(X_test))\n",
        "\n",
        "print(f\"MAE of the tree: {mae_tree}\")\n",
        "print(f\"MAE of dummy(median): {mae_median}\")\n",
        "print(f\"MAE ratio tree/dummy(median): {mae_tree/mae_median}\")"
      ]
    },
    {
      "cell_type": "markdown",
      "metadata": {
        "id": "DQ0bJSuz4QX5"
      },
      "source": [
        "The tree has more than 10 levels and it is very hard to visualize. Let's visualize one with only four levels"
      ]
    },
    {
      "cell_type": "code",
      "execution_count": 46,
      "metadata": {
        "colab": {
          "base_uri": "https://localhost:8080/",
          "height": 552
        },
        "id": "V1-moMyM4QX5",
        "outputId": "6b087f0b-7311-4b8a-e774-92d84ddf42ad"
      },
      "outputs": [
        {
          "output_type": "display_data",
          "data": {
            "text/plain": [
              "<Figure size 1800x1440 with 1 Axes>"
            ],
            "image/png": "[encoded data removed]"
          },
          "metadata": {
            "needs_background": "light"
          }
        }
      ],
      "source": [
        "regr = tree.DecisionTreeRegressor(max_depth=4)\n",
        "np.random.seed(42) # reproducibility\n",
        "# We train it\n",
        "regr.fit(X_train, y_train)\n",
        "\n",
        "import matplotlib.pyplot as plt\n",
        "fig = plt.figure(figsize=(25,20))\n",
        "    \n",
        "_ = tree.plot_tree(regr,\n",
        "                   feature_names = boston_meta.feature_names,\n",
        "                   filled=True)"
      ]
    },
    {
      "cell_type": "markdown",
      "metadata": {
        "id": "6in65Vuu4QX5"
      },
      "source": [
        "**Now we train model trees (for regression)**"
      ]
    },
    {
      "cell_type": "code",
      "execution_count": 47,
      "metadata": {
        "id": "GBI37quR4QX5"
      },
      "outputs": [],
      "source": [
        "# More info about this implementation of model trees\n",
        "# https://towardsdatascience.com/linear-tree-the-perfect-mix-of-linear-model-and-decision-tree-2eaed21936b7\n",
        "# https://pypi.org/project/linear-tree/\n",
        "\n",
        "# IMPORTANT: This implementation of Model Trees is able to deal with Categorical Features (whose values are encoded as integers 0,1,2, ...)\n",
        "# in order to use categorical features, the parameter categorical_features must be used."
      ]
    },
    {
      "cell_type": "code",
      "execution_count": 48,
      "metadata": {
        "id": "rMTJR8N61dsr"
      },
      "outputs": [],
      "source": [
        "# !pip install --upgrade linear-tree"
      ]
    },
    {
      "cell_type": "code",
      "execution_count": 49,
      "metadata": {
        "colab": {
          "base_uri": "https://localhost:8080/",
          "height": 375
        },
        "id": "-rHXrM9B4QX5",
        "outputId": "bc9bc9d0-534a-4726-a5f5-2db41c9f1192"
      },
      "outputs": [
        {
          "output_type": "error",
          "ename": "ModuleNotFoundError",
          "evalue": "ignored",
          "traceback": [
            "\u001b[0;31m---------------------------------------------------------------------------\u001b[0m",
            "\u001b[0;31mModuleNotFoundError\u001b[0m                       Traceback (most recent call last)",
            "\u001b[0;32m<ipython-input-49-97cdc89b910d>\u001b[0m in \u001b[0;36m<module>\u001b[0;34m\u001b[0m\n\u001b[1;32m      4\u001b[0m \u001b[0;34m\u001b[0m\u001b[0m\n\u001b[1;32m      5\u001b[0m \u001b[0;32mfrom\u001b[0m \u001b[0msklearn\u001b[0m\u001b[0;34m.\u001b[0m\u001b[0mlinear_model\u001b[0m \u001b[0;32mimport\u001b[0m \u001b[0mLinearRegression\u001b[0m\u001b[0;34m\u001b[0m\u001b[0;34m\u001b[0m\u001b[0m\n\u001b[0;32m----> 6\u001b[0;31m \u001b[0;32mfrom\u001b[0m \u001b[0mlineartree\u001b[0m \u001b[0;32mimport\u001b[0m \u001b[0mLinearTreeRegressor\u001b[0m\u001b[0;34m\u001b[0m\u001b[0;34m\u001b[0m\u001b[0m\n\u001b[0m\u001b[1;32m      7\u001b[0m \u001b[0;34m\u001b[0m\u001b[0m\n\u001b[1;32m      8\u001b[0m \u001b[0;31m# Train/test split\u001b[0m\u001b[0;34m\u001b[0m\u001b[0;34m\u001b[0m\u001b[0;34m\u001b[0m\u001b[0m\n",
            "\u001b[0;31mModuleNotFoundError\u001b[0m: No module named 'lineartree'",
            "",
            "\u001b[0;31m---------------------------------------------------------------------------\u001b[0;32m\nNOTE: If your import is failing due to a missing package, you can\nmanually install dependencies using either !pip or !apt.\n\nTo view examples of installing some common dependencies, click the\n\"Open Examples\" button below.\n\u001b[0;31m---------------------------------------------------------------------------\u001b[0m\n"
          ],
          "errorDetails": {
            "actions": [
              {
                "action": "open_url",
                "actionText": "Open Examples",
                "url": "/notebooks/snippets/importing_libraries.ipynb"
              }
            ]
          }
        }
      ],
      "source": [
        "from sklearn.model_selection import train_test_split\n",
        "from sklearn import metrics\n",
        "from sklearn import tree\n",
        "\n",
        "from sklearn.linear_model import LinearRegression\n",
        "from lineartree import LinearTreeRegressor\n",
        "\n",
        "# Train/test split\n",
        "X_train, X_test, y_train, y_test = train_test_split(X, y, test_size=0.33, random_state=42)\n",
        "\n",
        "regr = LinearTreeRegressor(base_estimator=LinearRegression())\n",
        "np.random.seed(42) # reproducibility\n",
        "# We train it\n",
        "regr.fit(X_train, y_train)\n",
        "# We obtain predictions on the test set\n",
        "y_test_pred = regr.predict(X_test)\n",
        "# We compute accuracy\n",
        "rmse_tree = np.sqrt(metrics.mean_squared_error(y_test, y_test_pred))\n",
        "print(f\"RMSE of the tree: {rmse_tree}\")\n",
        "\n",
        "# We would have to compute the final model with all available data\n",
        "# Not done here, only interested on test RMSE"
      ]
    },
    {
      "cell_type": "markdown",
      "metadata": {
        "id": "AZMaKH1q86_U"
      },
      "source": [
        "The internal nodes of the model tree below:"
      ]
    },
    {
      "cell_type": "code",
      "execution_count": null,
      "metadata": {
        "id": "xmXWQ1SD4QX5"
      },
      "outputs": [],
      "source": [
        "regr.plot_model(feature_names=boston_meta.feature_names)"
      ]
    },
    {
      "cell_type": "markdown",
      "metadata": {
        "id": "OeGJtMBM9Djz"
      },
      "source": [
        "In order to check the linear models at the leaves, we have to follow a longer process. What follows shows the coefficient of the linear model at node 5."
      ]
    },
    {
      "cell_type": "code",
      "execution_count": null,
      "metadata": {
        "id": "OgM4K5gS4Ac4"
      },
      "outputs": [],
      "source": [
        "leaves = regr.summary(feature_names=boston_meta.feature_names, only_leaves=True, max_depth=None)"
      ]
    },
    {
      "cell_type": "code",
      "execution_count": null,
      "metadata": {
        "id": "Ika31dVu4xgB"
      },
      "outputs": [],
      "source": [
        "leaves"
      ]
    },
    {
      "cell_type": "code",
      "execution_count": null,
      "metadata": {
        "id": "8jpFdkSA6C-H"
      },
      "outputs": [],
      "source": [
        "from pprint import pprint\n",
        "model_5_coefs = leaves[5]['models'].coef_\n",
        "model_5_intercept = leaves[5]['models'].intercept_\n",
        "pprint(list(zip(boston_meta.feature_names, model_5_coefs)))\n",
        "pprint(f'intercept: {model_5_intercept}')"
      ]
    },
    {
      "cell_type": "code",
      "execution_count": null,
      "metadata": {
        "id": "4As4OQmq8FFE"
      },
      "outputs": [],
      "source": [
        "?LinearTreeRegressor"
      ]
    },
    {
      "cell_type": "code",
      "execution_count": null,
      "metadata": {
        "id": "Tpo1MG7XEKii"
      },
      "outputs": [],
      "source": []
    },
    {
      "cell_type": "markdown",
      "source": [
        "Vamos a hora con CatBoost"
      ],
      "metadata": {
        "id": "k3OeyHxCJ2GM"
      }
    },
    {
      "cell_type": "code",
      "source": [
        "!pip install xgboost"
      ],
      "metadata": {
        "id": "dTnO3fA_KOIs"
      },
      "execution_count": null,
      "outputs": []
    },
    {
      "cell_type": "code",
      "source": [
        "import catboost as cb\n",
        "import numpy as np\n",
        "import pandas as pd\n",
        "import seaborn as sns\n",
        "import shap\n",
        "from matplotlib import pyplot as plt\n",
        "from sklearn.datasets import load_boston\n",
        "from sklearn.model_selection import train_test_split\n",
        "from sklearn.metrics import mean_squared_error\n",
        "from sklearn.metrics import r2_score\n",
        "from sklearn.inspection import permutation_importance\n",
        "from xgboost.sklearn import XGBRegressor\n",
        "from xgboost import plot_importance\n",
        "from lightgbm import LGBMRegressor\n",
        "from sklearn.model_selection import GridSearchCV, cross_val_score\n",
        "\n",
        "boston=load_boston()\n",
        "bostondf = pd.DataFrame(boston.data, columns=boston.feature_names)"
      ],
      "metadata": {
        "id": "jNBw-y5JJ5JZ"
      },
      "execution_count": 71,
      "outputs": []
    },
    {
      "cell_type": "code",
      "source": [
        "X, y = load_boston(return_X_y=True)\n",
        "X_train, X_test, y_train, y_test = train_test_split(X, y, test_size = 0.2, random_state=42)"
      ],
      "metadata": {
        "id": "jIxoOe5cKM_-"
      },
      "execution_count": null,
      "outputs": []
    },
    {
      "cell_type": "markdown",
      "source": [
        "Para entrenar y optimizar nuestro modelo, necesitamos utilizar la herramienta integrada en la biblioteca CatBoost para combinar características y variables objetivo en un conjunto de datos de entrenamiento y prueba. Esta agrupación le permite identificar las variables objetivo, los predictores y la lista de características categóricas, mientras que el constructor de la agrupación combinará esas entradas y las pasará al modelo."
      ],
      "metadata": {
        "id": "B7o7mEekLRwM"
      }
    },
    {
      "cell_type": "code",
      "source": [
        "train_dataset = cb.Pool(X_train, y_train) \n",
        "test_dataset = cb.Pool(X_test, y_test)"
      ],
      "metadata": {
        "id": "vuULK9ohKDx4"
      },
      "execution_count": null,
      "outputs": []
    },
    {
      "cell_type": "code",
      "source": [
        "model = cb.CatBoostRegressor(loss_function='RMSE')"
      ],
      "metadata": {
        "id": "htRUsa3-LcbV"
      },
      "execution_count": null,
      "outputs": []
    },
    {
      "cell_type": "code",
      "source": [
        "grid = {'iterations': [100, 150, 200],\n",
        "        'learning_rate': [0.03, 0.1],\n",
        "        'depth': [2, 4, 6, 8],\n",
        "        'l2_leaf_reg': [0.2, 0.5, 1, 3]}\n",
        "_ = model.grid_search(grid, train_dataset)"
      ],
      "metadata": {
        "id": "LhCD7jUVLsmy"
      },
      "execution_count": null,
      "outputs": []
    },
    {
      "cell_type": "code",
      "source": [
        "pred = model.predict(X_test)\n",
        "rmse = (np.sqrt(mean_squared_error(y_test, pred)))\n",
        "r2 = r2_score(y_test, pred)\n",
        "print('Testing performance')\n",
        "print('RMSE: {:.2f}'.format(rmse))\n",
        "print('R2: {:.2f}'.format(r2))\n"
      ],
      "metadata": {
        "colab": {
          "base_uri": "https://localhost:8080/"
        },
        "id": "THEQN_khMUr7",
        "outputId": "d40e798a-bcda-4b4e-f42f-58dae8fe95dc"
      },
      "execution_count": 52,
      "outputs": [
        {
          "output_type": "stream",
          "name": "stdout",
          "text": [
            "Testing performance\n",
            "RMSE: 2.69\n",
            "R2: 0.90\n"
          ]
        }
      ]
    },
    {
      "cell_type": "code",
      "source": [
        "sorted_feature_importance = model.feature_importances_.argsort()\n",
        "plt.barh(boston.feature_names[sorted_feature_importance], \n",
        "        model.feature_importances_[sorted_feature_importance], \n",
        "        color='turquoise')\n",
        "plt.xlabel('CatBoost Feature Importance')"
      ],
      "metadata": {
        "id": "NZetYeddN_61"
      },
      "execution_count": null,
      "outputs": []
    },
    {
      "cell_type": "markdown",
      "source": [
        "Ahora con XGBoost"
      ],
      "metadata": {
        "id": "lnZgLQ1ZQUSs"
      }
    },
    {
      "cell_type": "code",
      "source": [
        "xgb1 = XGBRegressor()\n",
        "parameters = {'nthread':[4], #when use hyperthread, xgboost may become slower\n",
        "              'objective':['reg:linear'],\n",
        "              'learning_rate': [.03, 0.05, .07], #so called `eta` value\n",
        "              'max_depth': [5, 6, 7],\n",
        "              'min_child_weight': [4],\n",
        "              'silent': [1],\n",
        "              'subsample': [0.7],\n",
        "              'colsample_bytree': [0.7],\n",
        "              'n_estimators': [500]}\n",
        "\n",
        "xgb_grid = GridSearchCV(xgb1,\n",
        "                        parameters,\n",
        "                        cv = 2,\n",
        "                        n_jobs = 5,\n",
        "                        verbose=True)\n",
        "\n",
        "xgb_grid.fit(X_train, y_train)\n",
        "\n",
        "print(xgb_grid.best_score_)\n",
        "print(xgb_grid.best_params_)"
      ],
      "metadata": {
        "colab": {
          "base_uri": "https://localhost:8080/"
        },
        "id": "vi6Xf37uNVuh",
        "outputId": "9d4880cc-9274-4c0f-cf7f-a15d3191bdec"
      },
      "execution_count": 50,
      "outputs": [
        {
          "output_type": "stream",
          "name": "stdout",
          "text": [
            "Fitting 2 folds for each of 9 candidates, totalling 18 fits\n",
            "0.8127521048045914\n",
            "{'colsample_bytree': 0.7, 'learning_rate': 0.03, 'max_depth': 5, 'min_child_weight': 4, 'n_estimators': 500, 'nthread': 4, 'objective': 'reg:linear', 'silent': 1, 'subsample': 0.7}\n"
          ]
        }
      ]
    },
    {
      "cell_type": "code",
      "source": [
        "predXGB = xgb_grid.predict(X_test)\n",
        "rmseXGB = (np.sqrt(mean_squared_error(y_test, predXGB)))\n",
        "r2XGB = r2_score(y_test, predXGB)\n",
        "print('Testing performance')\n",
        "print('RMSE: {:.2f}'.format(rmse))\n",
        "print('R2: {:.2f}'.format(r2))"
      ],
      "metadata": {
        "colab": {
          "base_uri": "https://localhost:8080/"
        },
        "id": "g3EjosHVR91t",
        "outputId": "ccac66f2-0212-4c95-cbe2-51105c4d33a4"
      },
      "execution_count": 51,
      "outputs": [
        {
          "output_type": "stream",
          "name": "stdout",
          "text": [
            "Testing performance\n",
            "RMSE: 3.03\n",
            "R2: 0.87\n"
          ]
        }
      ]
    },
    {
      "cell_type": "code",
      "source": [
        "xgb_final = XGBRegressor(colsample_bytree = 0.7, \n",
        "          learning_rate = 0.03, \n",
        "          max_depth = 5, \n",
        "          min_child_weight = 4, \n",
        "          n_estimators = 500, \n",
        "          nthread = 4, \n",
        "          objective = 'reg:linear', \n",
        "          silent = 1, \n",
        "          subsample = 0.7)\n",
        "\n",
        "xgb_final.fit (X, y)\n",
        "# plot feature importance\n",
        "#plt.barh(boston.feature_names, xgb_final.feature_importances_)\n",
        "sorted_idx = xgb_final.feature_importances_.argsort()\n",
        "plt.barh(boston.feature_names[sorted_idx], xgb_final.feature_importances_[sorted_idx])\n",
        "plt.xlabel(\"Xgboost Feature Importance\")\n",
        "plot_importance(xgb_final)\n",
        "plt.show()"
      ],
      "metadata": {
        "colab": {
          "base_uri": "https://localhost:8080/",
          "height": 557
        },
        "id": "_t51nDkTSmTF",
        "outputId": "89e9e3ad-aa3b-4cac-fa4c-1f1dd594b621"
      },
      "execution_count": 63,
      "outputs": [
        {
          "output_type": "display_data",
          "data": {
            "text/plain": [
              "<Figure size 432x288 with 1 Axes>"
            ],
            "image/png": "[encoded data removed]"
          },
          "metadata": {
            "needs_background": "light"
          }
        },
        {
          "output_type": "display_data",
          "data": {
            "text/plain": [
              "<Figure size 432x288 with 1 Axes>"
            ],
            "image/png": "[encoded data removed]"
          },
          "metadata": {
            "needs_background": "light"
          }
        }
      ]
    },
    {
      "cell_type": "code",
      "source": [
        "explainer = shap.TreeExplainer(xgb_final)\n",
        "shap_values = explainer.shap_values(X_test)\n",
        "\n",
        "shap.summary_plot(shap_values, X_test, plot_type=\"bar\", feature_names=boston.feature_names)"
      ],
      "metadata": {
        "colab": {
          "base_uri": "https://localhost:8080/",
          "height": 492
        },
        "id": "u6eCUMZPcTiT",
        "outputId": "33c3c3c5-31c6-4fbd-99af-d6cc5cf061a7"
      },
      "execution_count": 67,
      "outputs": [
        {
          "output_type": "display_data",
          "data": {
            "text/plain": [
              "<Figure size 576x482.4 with 1 Axes>"
            ],
            "image/png": "[encoded data removed]"
          },
          "metadata": {
            "needs_background": "light"
          }
        }
      ]
    },
    {
      "cell_type": "code",
      "source": [
        "shap.summary_plot(shap_values, X_test, feature_names=boston.feature_names)"
      ],
      "metadata": {
        "colab": {
          "base_uri": "https://localhost:8080/",
          "height": 492
        },
        "id": "zOmyvGS6c3EE",
        "outputId": "00cbf082-1a5e-4ca1-df9f-9ab728457daa"
      },
      "execution_count": 68,
      "outputs": [
        {
          "output_type": "display_data",
          "data": {
            "text/plain": [
              "<Figure size 576x482.4 with 2 Axes>"
            ],
            "image/png": "[encoded data removed]"
          },
          "metadata": {
            "needs_background": "light"
          }
        }
      ]
    },
    {
      "cell_type": "code",
      "source": [
        "shap.dependence_plot(\"LSTAT\", shap_values, X_test, feature_names=boston.feature_names)"
      ],
      "metadata": {
        "colab": {
          "base_uri": "https://localhost:8080/",
          "height": 340
        },
        "id": "LJvhRXv3dATK",
        "outputId": "5398b049-80fd-46a5-bab4-c7ce50a11af2"
      },
      "execution_count": 69,
      "outputs": [
        {
          "output_type": "display_data",
          "data": {
            "text/plain": [
              "<Figure size 540x360 with 2 Axes>"
            ],
            "image/png": "[encoded data removed]"
          },
          "metadata": {
            "needs_background": "light"
          }
        }
      ]
    },
    {
      "cell_type": "markdown",
      "source": [
        "Ahora con LGBM"
      ],
      "metadata": {
        "id": "V80UEC4je166"
      }
    },
    {
      "cell_type": "code",
      "source": [
        "# grid search  hyperparameter tuning\n",
        "lgb_model = LGBMRegressor()\n",
        "\n",
        "parameters = {\n",
        "    'task' : ['predict'],\n",
        "    'boosting': ['gbdt' ],\n",
        "    'objective': ['root_mean_squared_error'],\n",
        "    'num_iterations': [  1500, 2000,5000  ],\n",
        "    'learning_rate':[  0.05, 0.005 ],\n",
        "    'num_leaves':[ 7, 15, 31  ],\n",
        "    'max_depth' :[ 10,15,25],\n",
        "    'min_data_in_leaf':[15,25 ],\n",
        "    'feature_fraction': [ 0.6, 0.8,  0.9],\n",
        "    'bagging_fraction': [  0.6, 0.8 ],\n",
        "    'bagging_freq': [   100, 200, 400  ],\n",
        "      }\n",
        "\n",
        "gsearch_lgb = GridSearchCV(lgb_model, param_grid = parameters, n_jobs=-1, \n",
        "                           verbose=10)\n",
        "gsearch_lgb.fit(X_train,y_train)\n",
        " \n",
        "\n",
        "print('best params')\n",
        "print (gsearch_lgb.best_params_)\n",
        "preds_lgb_model = gsearch_lgb.predict(X_test)\n",
        "rmse_lgb = np.sqrt(mean_squared_error(y_test, preds_lgb_model))\n",
        "print(\" RMSE: %f\" % (rmse_lgb ))\n",
        "r2LGB = r2_score(y_test, preds_lgb_model)\n",
        "print(\" RMSE: %f\" % (r2LGB ))"
      ],
      "metadata": {
        "colab": {
          "base_uri": "https://localhost:8080/"
        },
        "id": "TDftHjyrezQO",
        "outputId": "5fcce18e-e929-40c5-88e1-49d449b085de"
      },
      "execution_count": null,
      "outputs": [
        {
          "output_type": "stream",
          "name": "stdout",
          "text": [
            "Fitting 5 folds for each of 1944 candidates, totalling 9720 fits\n"
          ]
        }
      ]
    }
  ],
  "metadata": {
    "colab": {
      "provenance": [],
      "toc_visible": true
    },
    "interpreter": {
      "hash": "b3ba2566441a7c06988d0923437866b63cedc61552a5af99d1f4fb67d367b25f"
    },
    "kernelspec": {
      "display_name": "Python 3 (ipykernel)",
      "language": "python",
      "name": "python3"
    },
    "language_info": {
      "codemirror_mode": {
        "name": "ipython",
        "version": 3
      },
      "file_extension": ".py",
      "mimetype": "text/x-python",
      "name": "python",
      "nbconvert_exporter": "python",
      "pygments_lexer": "ipython3",
      "version": "3.9.5"
    }
  },
  "nbformat": 4,
  "nbformat_minor": 0
}